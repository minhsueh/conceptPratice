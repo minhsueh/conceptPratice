{
 "cells": [
  {
   "cell_type": "markdown",
   "id": "7de6528c-a503-43a5-b7dc-478d46af7652",
   "metadata": {},
   "source": [
    "# Recommendation system basic: matrix factorization"
   ]
  },
  {
   "cell_type": "markdown",
   "id": "e699a5f1-3013-4a1e-a023-3c67dac8b876",
   "metadata": {},
   "source": [
    "This notebook reviews/implements matrix factorization from scratch. \n",
    "\n",
    "Exmple application: movie recommendation \n",
    "\n",
    "Say we have data on user interaction metrics (say watching time ratio, the watching time/total movie length).\n",
    "\n",
    "We have 3 movies and 4 users. "
   ]
  },
  {
   "cell_type": "code",
   "execution_count": 124,
   "id": "06fb3010-71b1-4761-8407-c6afebdcaea8",
   "metadata": {},
   "outputs": [],
   "source": [
    "import random\n",
    "import numpy as np\n",
    "SEED = 15\n",
    "random.seed(SEED)\n",
    "np.random.seed(SEED)"
   ]
  },
  {
   "cell_type": "code",
   "execution_count": 125,
   "id": "367499a6-7305-4fd7-b0bf-7fc823950357",
   "metadata": {},
   "outputs": [],
   "source": [
    "M1 = np.array([\n",
    "        [0.1, 0.2, 0.9, 1.0],\n",
    "        [0.1, 0.3, 0.8, 0.4],\n",
    "        [1.0, 0.9, 0.1, 0.5],\n",
    "    ])"
   ]
  },
  {
   "cell_type": "code",
   "execution_count": 140,
   "id": "45db2589-8544-41ea-bd29-b6f0dc842593",
   "metadata": {},
   "outputs": [],
   "source": [
    "def matrix_factorization(M, d, learning_rate=0.1, epochs=50, seed=15):\n",
    "    \"\"\"\n",
    "    M = U * V^T\n",
    "    M: original_matrix (size: m * n)\n",
    "    U: item embedding (size: m * d)\n",
    "    V: user embedding (size: n * d)\n",
    "    \n",
    "    Params:\n",
    "        M(np.array)\n",
    "        d(int): embedding dimension\n",
    "        learning_rate(float): the rate to update weight in gradient descend\n",
    "    Return:\n",
    "        U(np.array)\n",
    "        V(np.array)\n",
    "    \n",
    "    \"\"\"\n",
    "    np.random.seed(seed)\n",
    "    \n",
    "    m, n = M.shape\n",
    "    # initialize U and V\n",
    "    U = np.random.rand(m, d)\n",
    "    V = np.random.rand(n, d)\n",
    "    \n",
    "    # gradient decent to update optimal U* and V*\n",
    "    for epoch in range(epochs):\n",
    "        # calculate current M\n",
    "        M_pred = U @ V.T\n",
    "\n",
    "        # caluclate error\n",
    "        error = M - M_pred # m * n\n",
    "\n",
    "        # update U and V\n",
    "        U += learning_rate * error @ V\n",
    "        V += learning_rate * error.T @ U\n",
    "\n",
    "    return(U, V)\n",
    "    "
   ]
  },
  {
   "cell_type": "code",
   "execution_count": 142,
   "id": "8700621f-c31a-4a41-906e-f2ad900f6252",
   "metadata": {},
   "outputs": [
    {
     "name": "stdout",
     "output_type": "stream",
     "text": [
      "Movie embedding\n",
      "[[ 0.76575695  0.51821956 -0.15897315 -0.00906748  0.36561721]\n",
      " [ 0.61923485 -0.00444745  0.17655935 -0.09027221  0.1112234 ]\n",
      " [ 0.20730892 -0.06636708  0.36395578  1.05808794  0.45599005]]\n",
      "User embedding\n",
      "[[ 0.04363247 -0.00290447  0.34579585  0.64580841  0.396839  ]\n",
      " [ 0.26718721  0.07053684  0.77367716  0.42877172  0.24981469]\n",
      " [ 1.02412045  0.14344394  0.33230868 -0.34924897  0.31796322]\n",
      " [ 0.5525085   0.74612879  0.33089108  0.0521876   0.57116501]]\n"
     ]
    }
   ],
   "source": [
    "U, V = matrix_factorization(M1, 5, epochs=50)\n",
    "print(\"Movie embedding\")\n",
    "print(U)\n",
    "print(\"User embedding\")\n",
    "print(V)"
   ]
  },
  {
   "cell_type": "markdown",
   "id": "49b4ada9-23be-445e-8bac-1c98513a6cc3",
   "metadata": {},
   "source": [
    "As a new user without historical data (commonly known as the cold start problem), there are two practical approaches:\n",
    "\n",
    "1. Use the average of all users: This provides a general starting point but lacks personalization.\n",
    "2. Incorporate user preferences: If the new user expresses a preference (e.g., liking Sci-Fi movies), we can identify existing users with similar interests and average their user embeddings to create a more tailored initialization."
   ]
  },
  {
   "cell_type": "code",
   "execution_count": 146,
   "id": "d09a319b-3ea1-4f2b-96c7-d2fe161e9d10",
   "metadata": {},
   "outputs": [
    {
     "data": {
      "text/plain": [
       "array([0.47186216, 0.23930128, 0.44566819, 0.19437969, 0.38394548])"
      ]
     },
     "execution_count": 146,
     "metadata": {},
     "output_type": "execute_result"
    }
   ],
   "source": [
    "# 1. Use the average of all users:\n",
    "new_user_embedding1 = np.mean(V, axis=0)\n",
    "new_user_embedding1"
   ]
  },
  {
   "cell_type": "code",
   "execution_count": 147,
   "id": "7d0765d0-d2ce-498d-801f-1376562761c9",
   "metadata": {},
   "outputs": [
    {
     "data": {
      "text/plain": [
       "array([0.5531076 , 0.39497273, 0.62488915])"
      ]
     },
     "execution_count": 147,
     "metadata": {},
     "output_type": "execute_result"
    }
   ],
   "source": [
    "# we can get the movie preference for the new user:\n",
    "U @ new_user_embedding1.T"
   ]
  },
  {
   "cell_type": "code",
   "execution_count": 148,
   "id": "46f97ab8-db6a-4a72-991c-d35457e0f85e",
   "metadata": {},
   "outputs": [
    {
     "data": {
      "text/plain": [
       "array([[0.1, 0.2, 0.9, 1. ],\n",
       "       [0.1, 0.3, 0.8, 0.4],\n",
       "       [1. , 0.9, 0.1, 0.5]])"
      ]
     },
     "execution_count": 148,
     "metadata": {},
     "output_type": "execute_result"
    }
   ],
   "source": [
    "# 2. \n",
    "M1"
   ]
  },
  {
   "cell_type": "markdown",
   "id": "df96dd10-0e16-4b20-b300-e34d52b35b66",
   "metadata": {},
   "source": [
    "If we know that Movie 3 is a Sci-Fi movie, we can obtain this information in two ways:\n",
    "\n",
    "1. Using metadata: The movie's genre can be directly retrieved from available metadata, such as tags, ㄎescriptions, or predefined categories.\n",
    "2. Training a classification model: If genre labels are not explicitly available, we can train a model to classify movies based on their content features (e.g., text descriptions, embeddings, or user interactions)."
   ]
  },
  {
   "cell_type": "markdown",
   "id": "cbe3718c-517c-425c-abc2-4481518a202f",
   "metadata": {},
   "source": [
    "From the matrix M1, we observe that User 1 and User 2 have high watching time ratios of 1.0 and 0.9, respectively. \n",
    "This suggests that these users have a strong preference for the movie.\n",
    "\n",
    "To initialize a new user embedding, we can average the embeddings of these two similar users, assuming that the \n",
    "new user shares similar interests. This helps create a more personalized starting point for recommendations."
   ]
  },
  {
   "cell_type": "code",
   "execution_count": 149,
   "id": "9f109a18-bc1b-4e90-add1-c4619a78274b",
   "metadata": {},
   "outputs": [],
   "source": [
    "def get_new_user_embedding(M, V, preference_movie_idx, threshold=0.8):\n",
    "    \"\"\"\n",
    "    Params:\n",
    "        M(np.array): \n",
    "        V(np.array): user embedding from matrix factorization\n",
    "        preference_movie_idx(list): the movie idx that matches the new user preference\n",
    "        threshold(float): defines the minimum value required to consider a user as having a strong preference for a movie. \n",
    "                          If a user's value exceeds this threshold, their embedding can be used to approximate the new \n",
    "                          user's preferences.\n",
    "    Returns:\n",
    "        new_user_embedding1\n",
    "    \"\"\"\n",
    "    # get the mask for preference_movie_idx\n",
    "    row_mask = np.zeros(M.shape[0], dtype=bool)\n",
    "    row_mask[preference_movie_idx] = True\n",
    "\n",
    "    M_movie = M[row_mask]\n",
    "\n",
    "    # \n",
    "    user_idx = np.where(M_movie > threshold)[1]\n",
    "\n",
    "    # \n",
    "    new_user_embedding2 = V[user_idx, :].mean(axis=0)\n",
    "    return(new_user_embedding2)\n",
    "    \n",
    "    "
   ]
  },
  {
   "cell_type": "code",
   "execution_count": 151,
   "id": "0cda891e-a3b7-45ce-b0d5-ad12ff0144de",
   "metadata": {},
   "outputs": [
    {
     "data": {
      "text/plain": [
       "array([0.15540984, 0.03381619, 0.5597365 , 0.53729006, 0.32332685])"
      ]
     },
     "execution_count": 151,
     "metadata": {},
     "output_type": "execute_result"
    }
   ],
   "source": [
    "preference_movie_idx = [2]\n",
    "new_user_embedding2 = get_new_user_embedding(M1, V, preference_movie_idx)\n",
    "new_user_embedding2"
   ]
  },
  {
   "cell_type": "code",
   "execution_count": 152,
   "id": "d9d1cccf-c5b2-435e-903e-a02523057a2c",
   "metadata": {},
   "outputs": [
    {
     "data": {
      "text/plain": [
       "array([0.16088929, 0.18237065, 0.94962686])"
      ]
     },
     "execution_count": 152,
     "metadata": {},
     "output_type": "execute_result"
    }
   ],
   "source": [
    "# we can get the movie preference for the new user:\n",
    "U @ new_user_embedding2.T"
   ]
  },
  {
   "cell_type": "markdown",
   "id": "5ea5cd15-335c-480d-a130-8dc03aacdfa6",
   "metadata": {},
   "source": [
    "Based on the results, we predict that the new user prefers Movie 3, with a preference score of up to 0.95."
   ]
  },
  {
   "cell_type": "markdown",
   "id": "c006200b-eed4-4be0-bced-d5a2f46c58f7",
   "metadata": {},
   "source": [
    "As observed, Method 1 predicts values [0.550, 0.400, 0.625], which are centered around 0.5 and offer limited useful insights due to their similarity. Also, these predictions are shaped by existing user preferences, introducing bias, and fail to accurately reflect the new user's unique preferences. In contrast, Method 2 produces predictions that better reflect the new user's preferences, indicating that this approach may contribute to higher sales, improved customer retention, and enhanced brand reputation."
   ]
  },
  {
   "cell_type": "markdown",
   "id": "9979423b-7b1b-4736-8942-50525577f7ac",
   "metadata": {},
   "source": [
    "## incomplete input data"
   ]
  },
  {
   "cell_type": "markdown",
   "id": "63238c0a-bb8d-466c-a20d-d543aaaf5646",
   "metadata": {},
   "source": [
    "In the previous example, we had a complete movie-user interaction matrix (M1). However, in real-world scenarios, data is often sparse and incomplete, with many missing interactions."
   ]
  },
  {
   "cell_type": "code",
   "execution_count": 153,
   "id": "4d6632f4-fbfd-4590-9334-df2fe64aa116",
   "metadata": {},
   "outputs": [],
   "source": [
    "M2 = np.array([\n",
    "        [None, 0.2, None, 1.0],\n",
    "        [0.1, None, None, 0.4],\n",
    "        [1.0, 0.9, 0.1, None],\n",
    "    ])"
   ]
  },
  {
   "cell_type": "markdown",
   "id": "486a65d6-4f99-457f-adea-cb81bbe6ce20",
   "metadata": {},
   "source": [
    "Several approaches can be used to handle incomplete data in matrix factorization:\n",
    "\n",
    "1. Imputation: Fill in missing values using methods such as mean, median, max, or min imputers. However, this approach introduces significant bias, as the imputed values may not accurately reflect real user preferences.\n",
    "2. Masking Missing Values: Instead of imputing missing values, apply matrix factorization while masking out missing entries. This ensures that only observed values contribute to the updates, improving model robustness and reducing bias."
   ]
  },
  {
   "cell_type": "code",
   "execution_count": 154,
   "id": "27f8bf94-158a-4222-8e0d-8895715c686c",
   "metadata": {},
   "outputs": [],
   "source": [
    "def mask_matrix_factorization(M, d, learning_rate=0.1, epochs=50, seed=15):\n",
    "    \"\"\"\n",
    "    M = U * V^T\n",
    "    M: original_matrix (size: m * n)\n",
    "    U: item embedding (size: m * d)\n",
    "    V: user embedding (size: n * d)\n",
    "    \n",
    "    Params:\n",
    "        M(np.array)\n",
    "        d(int): embedding dimension\n",
    "        learning_rate(float): the rate to update weight in gradient descend\n",
    "    Return:\n",
    "        U(np.array)\n",
    "        V(np.array)\n",
    "    \n",
    "    \"\"\"\n",
    "    np.random.seed(seed)\n",
    "    \n",
    "    m, n = M.shape\n",
    "    # initialize U and V\n",
    "    U = np.random.rand(m, d)\n",
    "    V = np.random.rand(n, d)\n",
    "\n",
    "    # transform None to np.nan\n",
    "    M = np.where(M == None, np.nan, M).astype(float)\n",
    "    \n",
    "    # mask\n",
    "    mask = ~np.isnan(M)\n",
    "\n",
    "    # assign 0 to np.nan\n",
    "    M = np.nan_to_num(M)\n",
    "    \n",
    "    # gradient decent to update optimal U* and V*\n",
    "    for epoch in range(epochs):\n",
    "        # calculate current M\n",
    "        M_pred = U @ V.T\n",
    "\n",
    "        # caluclate error\n",
    "        error = mask * (M - M_pred) # m * n\n",
    "\n",
    "        # update U and V\n",
    "        U += learning_rate * error @ V\n",
    "        V += learning_rate * error.T @ U\n",
    "\n",
    "    return(U, V)\n",
    "    "
   ]
  },
  {
   "cell_type": "code",
   "execution_count": 156,
   "id": "cbc6992b-52ea-4516-afaf-2e71884de084",
   "metadata": {},
   "outputs": [
    {
     "name": "stdout",
     "output_type": "stream",
     "text": [
      "Movie embedding\n",
      "[[ 0.54887583  0.28140963 -0.21238567  0.44887535  0.43193131]\n",
      " [ 0.37827316  0.15772036  0.1479876  -0.06927787  0.00792639]\n",
      " [ 0.42127762  0.28437683  0.5431429   0.9509437   0.67049936]]\n",
      "User embedding\n",
      "[[ 0.25522108  0.19346783  0.18934407  0.44177014  0.46786456]\n",
      " [ 0.36172842  0.1800361   0.80561034  0.13101565  0.18758481]\n",
      " [ 0.63923519 -0.02147883  0.17331485 -0.37114707  0.14521031]\n",
      " [ 0.61644182  0.63327504  0.58949609  0.57617708  0.79223377]]\n"
     ]
    }
   ],
   "source": [
    "U, V = mask_matrix_factorization(M2, 5, epochs=50)\n",
    "print(\"Movie embedding\")\n",
    "print(U)\n",
    "print(\"User embedding\")\n",
    "print(V)"
   ]
  },
  {
   "cell_type": "code",
   "execution_count": 157,
   "id": "90e7e4aa-2f39-44bf-ba51-0b94618d4f23",
   "metadata": {},
   "outputs": [
    {
     "data": {
      "text/plain": [
       "array([[0.55469951, 0.21794123, 0.20412891, 0.99218145],\n",
       "       [0.12818126, 0.27685824, 0.29092959, 0.38666511],\n",
       "       [0.99917901, 0.89151172, 0.10174558, 1.83906671]])"
      ]
     },
     "execution_count": 157,
     "metadata": {},
     "output_type": "execute_result"
    }
   ],
   "source": [
    "U @ V.T"
   ]
  },
  {
   "cell_type": "code",
   "execution_count": 158,
   "id": "117aab75-ab68-43b4-b868-fe483d0ca279",
   "metadata": {},
   "outputs": [
    {
     "data": {
      "text/plain": [
       "array([[None, 0.2, None, 1.0],\n",
       "       [0.1, None, None, 0.4],\n",
       "       [1.0, 0.9, 0.1, None]], dtype=object)"
      ]
     },
     "execution_count": 158,
     "metadata": {},
     "output_type": "execute_result"
    }
   ],
   "source": [
    "M2"
   ]
  },
  {
   "cell_type": "code",
   "execution_count": 159,
   "id": "252f7712-17ec-4767-bce4-4d47156a2a0e",
   "metadata": {},
   "outputs": [
    {
     "data": {
      "text/plain": [
       "array([[0.1, 0.2, 0.9, 1. ],\n",
       "       [0.1, 0.3, 0.8, 0.4],\n",
       "       [1. , 0.9, 0.1, 0.5]])"
      ]
     },
     "execution_count": 159,
     "metadata": {},
     "output_type": "execute_result"
    }
   ],
   "source": [
    "M1"
   ]
  },
  {
   "cell_type": "code",
   "execution_count": 161,
   "id": "f2efc0d9-2da2-499e-b3d5-485822a6647f",
   "metadata": {},
   "outputs": [
    {
     "data": {
      "text/plain": [
       "array([2.2, 1.6, 2.5])"
      ]
     },
     "execution_count": 161,
     "metadata": {},
     "output_type": "execute_result"
    }
   ],
   "source": [
    "M1.sum(axis=1)"
   ]
  },
  {
   "cell_type": "code",
   "execution_count": null,
   "id": "b27b47c6-144d-4f6e-b14b-0e69919f7f52",
   "metadata": {},
   "outputs": [],
   "source": []
  }
 ],
 "metadata": {
  "kernelspec": {
   "display_name": "conceptPraticeEnv",
   "language": "python",
   "name": ".env"
  },
  "language_info": {
   "codemirror_mode": {
    "name": "ipython",
    "version": 3
   },
   "file_extension": ".py",
   "mimetype": "text/x-python",
   "name": "python",
   "nbconvert_exporter": "python",
   "pygments_lexer": "ipython3",
   "version": "3.9.6"
  }
 },
 "nbformat": 4,
 "nbformat_minor": 5
}
