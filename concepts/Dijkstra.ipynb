{
 "cells": [
  {
   "cell_type": "markdown",
   "id": "5db9b507-98a6-4c3c-8d1d-dfc046b941cd",
   "metadata": {},
   "source": [
    "Implement Dijkstra's algorithm\n",
    "\n",
    "Dijkstra's algorithm finds the shortest path on the weight graph."
   ]
  },
  {
   "cell_type": "code",
   "execution_count": 3,
   "id": "43aa16a8-7205-4d54-99c8-4b165ccd2806",
   "metadata": {},
   "outputs": [],
   "source": [
    "import heapq"
   ]
  },
  {
   "cell_type": "code",
   "execution_count": 12,
   "id": "17ef3f8b-0db0-4154-93e8-f1e714511800",
   "metadata": {},
   "outputs": [],
   "source": [
    "def create_graph(node_count, edges):\n",
    "    \"\"\"\n",
    "    \n",
    "    PARAMS:\n",
    "        node_count (int)\n",
    "        edges (list[int, int, int]): start_node, end_node, weight\n",
    "\n",
    "    RETURN:\n",
    "        grpah(dict[int: list[int]):\n",
    "    \"\"\"\n",
    "    graph = {node: [] for node in range(node_count)}\n",
    "\n",
    "    for start_node, end_node, weight in edges:\n",
    "        graph[start_node].append((end_node, weight))\n",
    "        graph[end_node].append((start_node, weight))\n",
    "    return(graph)\n",
    "\n",
    "\n",
    "def dijkstra(graph):\n",
    "    \"\"\"\n",
    "    get the shortest path from node 0 to other nodes\n",
    "\n",
    "    get the shortest dist so far\n",
    "    explore adj and update dist\n",
    "    \n",
    "    \n",
    "    PARAMS:\n",
    "         grpah(dict[int: list[int])\n",
    "        \n",
    "    \"\"\"\n",
    "\n",
    "    node_count = len(graph)\n",
    "    dist = [float('inf')] * node_count\n",
    "    dist[0] = 0\n",
    "    visited = [False] * node_count\n",
    "\n",
    "    heap = [(0, 0)] # dist, node\n",
    "    heapq.heapify(heap)\n",
    "    \n",
    "    while(heap):\n",
    "        cur_dist, cur_node = heapq.heappop(heap)\n",
    "\n",
    "        visited[cur_node] = True\n",
    "\n",
    "        if cur_dist > dist[cur_node]:\n",
    "            continue\n",
    "        \n",
    "        for adj_node, w in graph[cur_node]:\n",
    "            if not visited[adj_node]:\n",
    "                if cur_dist+w < dist[adj_node]:\n",
    "                    dist[adj_node] = cur_dist+w\n",
    "                    heapq.heappush(heap, (cur_dist+w, adj_node))\n",
    "\n",
    "    return(dist)\n",
    "                \n",
    "    "
   ]
  },
  {
   "cell_type": "code",
   "execution_count": 13,
   "id": "84d6cd7d-b834-472a-ae97-c1809c774da3",
   "metadata": {},
   "outputs": [
    {
     "data": {
      "text/plain": [
       "{0: [(1, 4), (7, 8)],\n",
       " 1: [(0, 4), (7, 11), (2, 8)],\n",
       " 2: [(1, 8), (3, 7), (8, 2), (5, 4)],\n",
       " 3: [(2, 7), (4, 9), (5, 14)],\n",
       " 4: [(3, 9), (5, 10)],\n",
       " 5: [(3, 14), (4, 10), (6, 2), (2, 4)],\n",
       " 6: [(5, 2), (7, 1), (8, 6)],\n",
       " 7: [(0, 8), (1, 11), (6, 1), (8, 7)],\n",
       " 8: [(7, 7), (6, 6), (2, 2)]}"
      ]
     },
     "execution_count": 13,
     "metadata": {},
     "output_type": "execute_result"
    }
   ],
   "source": [
    "node_count = 9\n",
    "edges = [\n",
    "    [0 ,1, 4],\n",
    "    [0, 7, 8],\n",
    "    [1, 7, 11], \n",
    "    [1, 2, 8], \n",
    "    [2, 3, 7],\n",
    "    [3, 4, 9],\n",
    "    [3, 5, 14], \n",
    "    [4, 5, 10], \n",
    "    [5, 6, 2],\n",
    "    [6, 7, 1],\n",
    "    [7, 8, 7], \n",
    "    [8, 6, 6],\n",
    "    [2, 8, 2],\n",
    "    [5, 2, 4]\n",
    "]\n",
    "graph = create_graph(node_count, edges)\n",
    "graph"
   ]
  },
  {
   "cell_type": "code",
   "execution_count": 14,
   "id": "dc69d6aa-8302-4f46-b5f0-e5ffced33a17",
   "metadata": {},
   "outputs": [
    {
     "data": {
      "text/plain": [
       "[0, 4, 12, 19, 21, 11, 9, 8, 14]"
      ]
     },
     "execution_count": 14,
     "metadata": {},
     "output_type": "execute_result"
    }
   ],
   "source": [
    "dijkstra(graph)"
   ]
  },
  {
   "cell_type": "code",
   "execution_count": null,
   "id": "1745f4ac-059c-4740-8eaf-ba8a1988ed63",
   "metadata": {},
   "outputs": [],
   "source": []
  }
 ],
 "metadata": {
  "kernelspec": {
   "display_name": "conceptPratice",
   "language": "python",
   "name": ".env"
  },
  "language_info": {
   "codemirror_mode": {
    "name": "ipython",
    "version": 3
   },
   "file_extension": ".py",
   "mimetype": "text/x-python",
   "name": "python",
   "nbconvert_exporter": "python",
   "pygments_lexer": "ipython3",
   "version": "3.9.6"
  }
 },
 "nbformat": 4,
 "nbformat_minor": 5
}
