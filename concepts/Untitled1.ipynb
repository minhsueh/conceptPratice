{
 "cells": [
  {
   "cell_type": "code",
   "execution_count": null,
   "id": "f6451ccb-b292-4a17-9e38-c0527f4945f6",
   "metadata": {},
   "outputs": [],
   "source": []
  }
 ],
 "metadata": {
  "kernelspec": {
   "display_name": "",
   "name": ""
  },
  "language_info": {
   "name": ""
  }
 },
 "nbformat": 4,
 "nbformat_minor": 5
}
